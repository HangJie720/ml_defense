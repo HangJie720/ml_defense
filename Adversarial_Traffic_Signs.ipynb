{
 "cells": [
  {
   "cell_type": "markdown",
   "metadata": {},
   "source": [
    "## Attack on Traffic Signs Recognition System\n",
    "\n",
    "### Experiment 1\n",
    "- Randomly select samples from test set and produce adversarial samples\n",
    "- Print out on paper\n",
    "- Take photo of the printed signs at varying distance and angles\n",
    "\n",
    "### Experiment 2\n",
    "- Find real target signs, take photos at varying distances and angles\n",
    "- Produce adversarial samples, print out\n",
    "- Take photo and test"
   ]
  },
  {
   "cell_type": "code",
   "execution_count": 1,
   "metadata": {
    "collapsed": true
   },
   "outputs": [],
   "source": [
    "import numpy as np\n",
    "import os, os.path\n",
    "from scipy import misc"
   ]
  },
  {
   "cell_type": "code",
   "execution_count": null,
   "metadata": {
    "collapsed": true
   },
   "outputs": [],
   "source": [
    "# Read input images into numpy array\n",
    "def read_image(im_name):\n",
    "    im = misc.imread(im_name, flatten=False, mode='RGB')\n",
    "return im\n",
    "\n",
    "# Read all image files in a directory and resize them to 32 x 32 pixels\n",
    "# Chosen interpolation algorithm may affect the result\n",
    "def read_images(path):\n",
    "    imgs = []\n",
    "    valid_images = [\".jpg\", \".gif\", \".png\", \".tga\"]\n",
    "    for f in os.listdir(path):\n",
    "        ext = os.path.splitext(f)[1]\n",
    "        if ext.lower() not in valid_images:\n",
    "            continue\n",
    "        im = read_image(os.path.join(path, f))    \n",
    "        im = misc.imresize(im, (32, 32))\n",
    "        imgs.append(im)\n",
    "    return np.array(imgs)"
   ]
  },
  {
   "cell_type": "code",
   "execution_count": null,
   "metadata": {
    "collapsed": true
   },
   "outputs": [],
   "source": []
  }
 ],
 "metadata": {
  "anaconda-cloud": {},
  "kernelspec": {
   "display_name": "Python [conda root]",
   "language": "python",
   "name": "conda-root-py"
  },
  "language_info": {
   "codemirror_mode": {
    "name": "ipython",
    "version": 2
   },
   "file_extension": ".py",
   "mimetype": "text/x-python",
   "name": "python",
   "nbconvert_exporter": "python",
   "pygments_lexer": "ipython2",
   "version": "2.7.12"
  }
 },
 "nbformat": 4,
 "nbformat_minor": 1
}
